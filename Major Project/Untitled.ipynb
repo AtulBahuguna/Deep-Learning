{
 "cells": [
  {
   "cell_type": "code",
   "execution_count": 2,
   "id": "9e01bdea",
   "metadata": {
    "scrolled": true
   },
   "outputs": [
    {
     "name": "stdout",
     "output_type": "stream",
     "text": [
      "Requirement already satisfied: matplotlib in c:\\users\\atul bahuguna\\anaconda3\\lib\\site-packages (3.5.2)\n",
      "Requirement already satisfied: opencv-python-headless in c:\\users\\atul bahuguna\\anaconda3\\lib\\site-packages (4.7.0.68)\n",
      "Requirement already satisfied: packaging>=20.0 in c:\\users\\atul bahuguna\\anaconda3\\lib\\site-packages (from matplotlib) (21.3)\n",
      "Requirement already satisfied: kiwisolver>=1.0.1 in c:\\users\\atul bahuguna\\anaconda3\\lib\\site-packages (from matplotlib) (1.4.2)\n",
      "Requirement already satisfied: cycler>=0.10 in c:\\users\\atul bahuguna\\anaconda3\\lib\\site-packages (from matplotlib) (0.11.0)\n",
      "Requirement already satisfied: pillow>=6.2.0 in c:\\users\\atul bahuguna\\anaconda3\\lib\\site-packages (from matplotlib) (9.2.0)\n",
      "Requirement already satisfied: python-dateutil>=2.7 in c:\\users\\atul bahuguna\\anaconda3\\lib\\site-packages (from matplotlib) (2.8.2)\n",
      "Requirement already satisfied: numpy>=1.17 in c:\\users\\atul bahuguna\\anaconda3\\lib\\site-packages (from matplotlib) (1.20.3)\n",
      "Requirement already satisfied: pyparsing>=2.2.1 in c:\\users\\atul bahuguna\\anaconda3\\lib\\site-packages (from matplotlib) (3.0.9)\n",
      "Requirement already satisfied: fonttools>=4.22.0 in c:\\users\\atul bahuguna\\anaconda3\\lib\\site-packages (from matplotlib) (4.25.0)\n",
      "Requirement already satisfied: six>=1.5 in c:\\users\\atul bahuguna\\anaconda3\\lib\\site-packages (from python-dateutil>=2.7->matplotlib) (1.16.0)\n"
     ]
    }
   ],
   "source": [
    "!pip install matplotlib opencv-python-headless"
   ]
  },
  {
   "cell_type": "code",
   "execution_count": 3,
   "id": "9010103c",
   "metadata": {},
   "outputs": [],
   "source": [
    "import tensorflow as tf\n",
    "from tensorflow import keras\n",
    "import matplotlib.pyplot as plt\n",
    "import numpy as np\n",
    "from tensorflow.keras.datasets import fashion_mnist\n",
    "from tensorflow.keras.datasets import mnist\n",
    "from tensorflow.keras.layers import Conv2D, MaxPooling2D, UpSampling2D, Input, ZeroPadding2D\n",
    "from tensorflow.keras.layers import BatchNormalization, LeakyReLU, Activation, Cropping2D\n",
    "from tensorflow.keras.models import Model\n",
    "from tensorflow.keras.layers import Dense\n",
    "import cv2"
   ]
  },
  {
   "cell_type": "code",
   "execution_count": 4,
   "id": "7c956128",
   "metadata": {},
   "outputs": [
    {
     "name": "stdout",
     "output_type": "stream",
     "text": [
      "(28, 28)\n"
     ]
    },
    {
     "data": {
      "text/plain": [
       "<matplotlib.image.AxesImage at 0x1ac464077f0>"
      ]
     },
     "execution_count": 4,
     "metadata": {},
     "output_type": "execute_result"
    },
    {
     "data": {
      "image/png": "[encoded data removed]",
      "text/plain": [
       "<Figure size 640x480 with 1 Axes>"
      ]
     },
     "metadata": {},
     "output_type": "display_data"
    }
   ],
   "source": [
    "\n",
    "(x_train, y_train), (x_test, y_test) = fashion_mnist.load_data()\n",
    "print(x_train[0].shape)\n",
    "\n",
    "plt.imshow(x_train[0], cmap=\"gray\")"
   ]
  },
  {
   "cell_type": "code",
   "execution_count": 5,
   "id": "736ad69a",
   "metadata": {},
   "outputs": [],
   "source": [
    "x_train = x_train.astype('float32') / 255.0\n",
    "x_test = x_test.astype('float32') / 255.0"
   ]
  },
  {
   "cell_type": "code",
   "execution_count": 6,
   "id": "1bc0d21e",
   "metadata": {},
   "outputs": [],
   "source": [
    "input_layer = Input(shape=(28, 28, 1))\n",
    "\n",
    "\n",
    "zero_pad = ZeroPadding2D((2, 2))(input_layer)\n",
    "\n",
    "conv1 = Conv2D(16, (3, 3), activation='relu', padding='same')(zero_pad)\n",
    "pool1 = MaxPooling2D((2, 2), padding='same')(conv1)\n",
    "\n",
    "conv2 = Conv2D(16, (3, 3), activation='relu', padding='same')(pool1)\n",
    "pool2 = MaxPooling2D((2, 2), padding='same')(conv2)\n",
    "\n",
    "conv3 = Conv2D(8, (3, 3), activation='relu', padding='same')(pool2)\n",
    "pool3 = MaxPooling2D((2, 2), padding='same')(conv3)\n",
    "\n",
    "conv4 = Conv2D(8, (3, 3), activation='relu', padding='same')(pool3)\n",
    "\n",
    "encoder = MaxPooling2D((2, 2), padding='same')(conv4)"
   ]
  },
  {
   "cell_type": "code",
   "execution_count": 7,
   "id": "02d6c448",
   "metadata": {},
   "outputs": [],
   "source": [
    "conv_1 = Conv2D(8, (3, 3), activation='relu', padding='same')(encoder)\n",
    "upsample1 = UpSampling2D((2, 2))(conv_1)\n",
    "\n",
    "conv_2 = Conv2D(8, (3, 3), activation='relu', padding='same')(upsample1)\n",
    "upsample2 = UpSampling2D((2, 2))(conv_2)\n",
    "\n",
    "conv_3 = Conv2D(16, (3, 3), activation='relu', padding='same')(upsample2)\n",
    "upsample3 = UpSampling2D((2, 2))(conv_3)\n",
    "\n",
    "conv_4 = Conv2D(1, (3, 3), activation='relu', padding='same')(upsample3)\n",
    "upsample4 = UpSampling2D((2, 2))(conv_4)\n",
    "\n",
    "decoder = Cropping2D((2, 2))(upsample4)"
   ]
  },
  {
   "cell_type": "code",
   "execution_count": 8,
   "id": "52c0e9d9",
   "metadata": {},
   "outputs": [
    {
     "name": "stdout",
     "output_type": "stream",
     "text": [
      "Model: \"model\"\n",
      "_________________________________________________________________\n",
      " Layer (type)                Output Shape              Param #   \n",
      "=================================================================\n",
      " input_1 (InputLayer)        [(None, 28, 28, 1)]       0         \n",
      "                                                                 \n",
      " zero_padding2d (ZeroPadding  (None, 32, 32, 1)        0         \n",
      " 2D)                                                             \n",
      "                                                                 \n",
      " conv2d (Conv2D)             (None, 32, 32, 16)        160       \n",
      "                                                                 \n",
      " max_pooling2d (MaxPooling2D  (None, 16, 16, 16)       0         \n",
      " )                                                               \n",
      "                                                                 \n",
      " conv2d_1 (Conv2D)           (None, 16, 16, 16)        2320      \n",
      "                                                                 \n",
      " max_pooling2d_1 (MaxPooling  (None, 8, 8, 16)         0         \n",
      " 2D)                                                             \n",
      "                                                                 \n",
      " conv2d_2 (Conv2D)           (None, 8, 8, 8)           1160      \n",
      "                                                                 \n",
      " max_pooling2d_2 (MaxPooling  (None, 4, 4, 8)          0         \n",
      " 2D)                                                             \n",
      "                                                                 \n",
      " conv2d_3 (Conv2D)           (None, 4, 4, 8)           584       \n",
      "                                                                 \n",
      " max_pooling2d_3 (MaxPooling  (None, 2, 2, 8)          0         \n",
      " 2D)                                                             \n",
      "                                                                 \n",
      " conv2d_4 (Conv2D)           (None, 2, 2, 8)           584       \n",
      "                                                                 \n",
      " up_sampling2d (UpSampling2D  (None, 4, 4, 8)          0         \n",
      " )                                                               \n",
      "                                                                 \n",
      " conv2d_5 (Conv2D)           (None, 4, 4, 8)           584       \n",
      "                                                                 \n",
      " up_sampling2d_1 (UpSampling  (None, 8, 8, 8)          0         \n",
      " 2D)                                                             \n",
      "                                                                 \n",
      " conv2d_6 (Conv2D)           (None, 8, 8, 16)          1168      \n",
      "                                                                 \n",
      " up_sampling2d_2 (UpSampling  (None, 16, 16, 16)       0         \n",
      " 2D)                                                             \n",
      "                                                                 \n",
      " conv2d_7 (Conv2D)           (None, 16, 16, 1)         145       \n",
      "                                                                 \n",
      " up_sampling2d_3 (UpSampling  (None, 32, 32, 1)        0         \n",
      " 2D)                                                             \n",
      "                                                                 \n",
      " cropping2d (Cropping2D)     (None, 28, 28, 1)         0         \n",
      "                                                                 \n",
      "=================================================================\n",
      "Total params: 6,705\n",
      "Trainable params: 6,705\n",
      "Non-trainable params: 0\n",
      "_________________________________________________________________\n"
     ]
    }
   ],
   "source": [
    "\n",
    "autoencoder = Model(input_layer, decoder)\n",
    "autoencoder.compile(optimizer='adam', loss='mse')\n",
    "autoencoder.summary()"
   ]
  },
  {
   "cell_type": "code",
   "execution_count": 9,
   "id": "38425b18",
   "metadata": {},
   "outputs": [],
   "source": [
    "\n",
    "from tensorflow.keras.callbacks import ModelCheckpoint\n",
    "from tensorflow.keras.callbacks import EarlyStopping\n",
    "from tensorflow.keras.callbacks import TensorBoard\n",
    "from tensorflow.keras.callbacks import ReduceLROnPlateau\n",
    "\n",
    "tensorboad_results = TensorBoard(log_dir='autoencoder_logs_fashion/')\n",
    "\n",
    "checkpoint = ModelCheckpoint(\"best_model_fashion.h5\", monitor=\"val_loss\", save_best_only=True)\n",
    "\n",
    "early_stop = EarlyStopping(monitor=\"val_loss\", patience=8, restore_best_weights=False)\n",
    "\n",
    "reduce_lr = ReduceLROnPlateau(monitor=\"val_loss\", factor=0.2, patience=4, min_lr=0.000001)"
   ]
  },
  {
   "cell_type": "code",
   "execution_count": 10,
   "id": "6135df42",
   "metadata": {},
   "outputs": [
    {
     "name": "stdout",
     "output_type": "stream",
     "text": [
      "Epoch 1/70\n",
      "469/469 [==============================] - 57s 110ms/step - loss: 0.0479 - val_loss: 0.0325 - lr: 0.0010\n",
      "Epoch 2/70\n",
      "469/469 [==============================] - 52s 110ms/step - loss: 0.0311 - val_loss: 0.0299 - lr: 0.0010\n",
      "Epoch 3/70\n",
      "469/469 [==============================] - 51s 109ms/step - loss: 0.0294 - val_loss: 0.0290 - lr: 0.0010\n",
      "Epoch 4/70\n",
      "469/469 [==============================] - 50s 107ms/step - loss: 0.0287 - val_loss: 0.0283 - lr: 0.0010\n",
      "Epoch 5/70\n",
      "469/469 [==============================] - 49s 105ms/step - loss: 0.0282 - val_loss: 0.0281 - lr: 0.0010\n",
      "Epoch 6/70\n",
      "469/469 [==============================] - 50s 106ms/step - loss: 0.0277 - val_loss: 0.0277 - lr: 0.0010\n",
      "Epoch 7/70\n",
      "469/469 [==============================] - 52s 112ms/step - loss: 0.0274 - val_loss: 0.0272 - lr: 0.0010\n",
      "Epoch 8/70\n",
      "469/469 [==============================] - 55s 116ms/step - loss: 0.0271 - val_loss: 0.0269 - lr: 0.0010\n",
      "Epoch 9/70\n",
      "469/469 [==============================] - 51s 109ms/step - loss: 0.0268 - val_loss: 0.0267 - lr: 0.0010\n",
      "Epoch 10/70\n",
      "469/469 [==============================] - 53s 114ms/step - loss: 0.0266 - val_loss: 0.0265 - lr: 0.0010\n",
      "Epoch 11/70\n",
      "469/469 [==============================] - 54s 114ms/step - loss: 0.0264 - val_loss: 0.0263 - lr: 0.0010\n",
      "Epoch 12/70\n",
      "469/469 [==============================] - 55s 117ms/step - loss: 0.0262 - val_loss: 0.0263 - lr: 0.0010\n",
      "Epoch 13/70\n",
      "469/469 [==============================] - 56s 118ms/step - loss: 0.0260 - val_loss: 0.0262 - lr: 0.0010\n",
      "Epoch 14/70\n",
      "469/469 [==============================] - 55s 118ms/step - loss: 0.0259 - val_loss: 0.0262 - lr: 0.0010\n",
      "Epoch 15/70\n",
      "469/469 [==============================] - 54s 115ms/step - loss: 0.0258 - val_loss: 0.0257 - lr: 0.0010\n",
      "Epoch 16/70\n",
      "469/469 [==============================] - 52s 112ms/step - loss: 0.0256 - val_loss: 0.0257 - lr: 0.0010\n",
      "Epoch 17/70\n",
      "469/469 [==============================] - 51s 108ms/step - loss: 0.0255 - val_loss: 0.0254 - lr: 0.0010\n",
      "Epoch 18/70\n",
      "469/469 [==============================] - 39s 82ms/step - loss: 0.0254 - val_loss: 0.0253 - lr: 0.0010\n",
      "Epoch 19/70\n",
      "469/469 [==============================] - 46s 98ms/step - loss: 0.0253 - val_loss: 0.0253 - lr: 0.0010\n",
      "Epoch 20/70\n",
      "469/469 [==============================] - 47s 101ms/step - loss: 0.0253 - val_loss: 0.0252 - lr: 0.0010\n",
      "Epoch 21/70\n",
      "469/469 [==============================] - 44s 94ms/step - loss: 0.0251 - val_loss: 0.0251 - lr: 0.0010\n",
      "Epoch 22/70\n",
      "469/469 [==============================] - 43s 91ms/step - loss: 0.0251 - val_loss: 0.0251 - lr: 0.0010\n",
      "Epoch 23/70\n",
      "469/469 [==============================] - 46s 97ms/step - loss: 0.0250 - val_loss: 0.0249 - lr: 0.0010\n",
      "Epoch 24/70\n",
      "469/469 [==============================] - 45s 96ms/step - loss: 0.0249 - val_loss: 0.0249 - lr: 0.0010\n",
      "Epoch 25/70\n",
      "469/469 [==============================] - 43s 92ms/step - loss: 0.0249 - val_loss: 0.0248 - lr: 0.0010\n",
      "Epoch 26/70\n",
      "469/469 [==============================] - 41s 88ms/step - loss: 0.0248 - val_loss: 0.0248 - lr: 0.0010\n",
      "Epoch 27/70\n",
      "469/469 [==============================] - 43s 92ms/step - loss: 0.0248 - val_loss: 0.0247 - lr: 0.0010\n",
      "Epoch 28/70\n",
      "469/469 [==============================] - 41s 88ms/step - loss: 0.0247 - val_loss: 0.0247 - lr: 0.0010\n",
      "Epoch 29/70\n",
      "469/469 [==============================] - 42s 90ms/step - loss: 0.0247 - val_loss: 0.0248 - lr: 0.0010\n",
      "Epoch 30/70\n",
      "469/469 [==============================] - 40s 86ms/step - loss: 0.0246 - val_loss: 0.0246 - lr: 0.0010\n",
      "Epoch 31/70\n",
      "469/469 [==============================] - 42s 90ms/step - loss: 0.0246 - val_loss: 0.0247 - lr: 0.0010\n",
      "Epoch 32/70\n",
      "469/469 [==============================] - 41s 87ms/step - loss: 0.0245 - val_loss: 0.0245 - lr: 0.0010\n",
      "Epoch 33/70\n",
      "469/469 [==============================] - 39s 84ms/step - loss: 0.0245 - val_loss: 0.0245 - lr: 0.0010\n",
      "Epoch 34/70\n",
      "469/469 [==============================] - 39s 83ms/step - loss: 0.0245 - val_loss: 0.0244 - lr: 0.0010\n",
      "Epoch 35/70\n",
      "469/469 [==============================] - 40s 85ms/step - loss: 0.0244 - val_loss: 0.0243 - lr: 0.0010\n",
      "Epoch 36/70\n",
      "469/469 [==============================] - 39s 83ms/step - loss: 0.0244 - val_loss: 0.0243 - lr: 0.0010\n",
      "Epoch 37/70\n",
      "469/469 [==============================] - 38s 81ms/step - loss: 0.0243 - val_loss: 0.0245 - lr: 0.0010\n",
      "Epoch 38/70\n",
      "469/469 [==============================] - 40s 84ms/step - loss: 0.0243 - val_loss: 0.0242 - lr: 0.0010\n",
      "Epoch 39/70\n",
      "469/469 [==============================] - 44s 95ms/step - loss: 0.0243 - val_loss: 0.0242 - lr: 0.0010\n",
      "Epoch 40/70\n",
      "469/469 [==============================] - 43s 92ms/step - loss: 0.0242 - val_loss: 0.0244 - lr: 0.0010\n",
      "Epoch 41/70\n",
      "469/469 [==============================] - 42s 90ms/step - loss: 0.0242 - val_loss: 0.0243 - lr: 0.0010\n",
      "Epoch 42/70\n",
      "469/469 [==============================] - 41s 88ms/step - loss: 0.0242 - val_loss: 0.0243 - lr: 0.0010\n",
      "Epoch 43/70\n",
      "469/469 [==============================] - 44s 94ms/step - loss: 0.0240 - val_loss: 0.0240 - lr: 2.0000e-04\n",
      "Epoch 44/70\n",
      "469/469 [==============================] - 42s 89ms/step - loss: 0.0240 - val_loss: 0.0240 - lr: 2.0000e-04\n",
      "Epoch 45/70\n",
      "469/469 [==============================] - 43s 91ms/step - loss: 0.0240 - val_loss: 0.0240 - lr: 2.0000e-04\n",
      "Epoch 46/70\n",
      "469/469 [==============================] - 40s 85ms/step - loss: 0.0240 - val_loss: 0.0240 - lr: 2.0000e-04\n",
      "Epoch 47/70\n",
      "469/469 [==============================] - 41s 87ms/step - loss: 0.0240 - val_loss: 0.0240 - lr: 2.0000e-04\n",
      "Epoch 48/70\n",
      "469/469 [==============================] - 41s 88ms/step - loss: 0.0239 - val_loss: 0.0240 - lr: 4.0000e-05\n",
      "Epoch 49/70\n",
      "469/469 [==============================] - 41s 87ms/step - loss: 0.0239 - val_loss: 0.0240 - lr: 4.0000e-05\n",
      "Epoch 50/70\n",
      "469/469 [==============================] - 44s 94ms/step - loss: 0.0239 - val_loss: 0.0240 - lr: 4.0000e-05\n",
      "Epoch 51/70\n",
      "469/469 [==============================] - 41s 87ms/step - loss: 0.0239 - val_loss: 0.0239 - lr: 4.0000e-05\n",
      "Epoch 52/70\n",
      "469/469 [==============================] - 43s 93ms/step - loss: 0.0239 - val_loss: 0.0239 - lr: 8.0000e-06\n",
      "Epoch 53/70\n",
      "469/469 [==============================] - 40s 85ms/step - loss: 0.0239 - val_loss: 0.0239 - lr: 8.0000e-06\n",
      "Epoch 54/70\n",
      "469/469 [==============================] - 45s 95ms/step - loss: 0.0239 - val_loss: 0.0239 - lr: 8.0000e-06\n",
      "Epoch 55/70\n",
      "469/469 [==============================] - 49s 105ms/step - loss: 0.0239 - val_loss: 0.0239 - lr: 8.0000e-06\n",
      "Epoch 56/70\n",
      "469/469 [==============================] - 59s 125ms/step - loss: 0.0239 - val_loss: 0.0239 - lr: 1.6000e-06\n",
      "Epoch 57/70\n",
      "469/469 [==============================] - 42s 89ms/step - loss: 0.0239 - val_loss: 0.0239 - lr: 1.6000e-06\n",
      "Epoch 58/70\n",
      "469/469 [==============================] - 40s 86ms/step - loss: 0.0239 - val_loss: 0.0239 - lr: 1.6000e-06\n",
      "Epoch 59/70\n",
      "469/469 [==============================] - 42s 89ms/step - loss: 0.0239 - val_loss: 0.0239 - lr: 1.6000e-06\n",
      "Epoch 60/70\n",
      "469/469 [==============================] - 44s 94ms/step - loss: 0.0239 - val_loss: 0.0239 - lr: 1.0000e-06\n",
      "Epoch 61/70\n",
      "469/469 [==============================] - 46s 99ms/step - loss: 0.0239 - val_loss: 0.0239 - lr: 1.0000e-06\n",
      "Epoch 62/70\n",
      "469/469 [==============================] - 41s 87ms/step - loss: 0.0239 - val_loss: 0.0239 - lr: 1.0000e-06\n",
      "Epoch 63/70\n",
      "469/469 [==============================] - 42s 89ms/step - loss: 0.0239 - val_loss: 0.0239 - lr: 1.0000e-06\n",
      "Epoch 64/70\n",
      "469/469 [==============================] - 42s 90ms/step - loss: 0.0239 - val_loss: 0.0239 - lr: 1.0000e-06\n",
      "Epoch 65/70\n",
      "469/469 [==============================] - 42s 89ms/step - loss: 0.0239 - val_loss: 0.0239 - lr: 1.0000e-06\n",
      "Epoch 66/70\n",
      "469/469 [==============================] - 45s 95ms/step - loss: 0.0239 - val_loss: 0.0239 - lr: 1.0000e-06\n",
      "Epoch 67/70\n",
      "469/469 [==============================] - 49s 105ms/step - loss: 0.0239 - val_loss: 0.0239 - lr: 1.0000e-06\n",
      "Epoch 68/70\n",
      "469/469 [==============================] - 51s 109ms/step - loss: 0.0239 - val_loss: 0.0239 - lr: 1.0000e-06\n",
      "Epoch 69/70\n",
      "469/469 [==============================] - 46s 99ms/step - loss: 0.0239 - val_loss: 0.0239 - lr: 1.0000e-06\n",
      "Epoch 70/70\n"
     ]
    },
    {
     "name": "stdout",
     "output_type": "stream",
     "text": [
      "469/469 [==============================] - 41s 87ms/step - loss: 0.0239 - val_loss: 0.0239 - lr: 1.0000e-06\n"
     ]
    },
    {
     "data": {
      "text/plain": [
       "<keras.callbacks.History at 0x1ac4661d040>"
      ]
     },
     "execution_count": 10,
     "metadata": {},
     "output_type": "execute_result"
    }
   ],
   "source": [
    "\n",
    "autoencoder.fit(x_train, x_train,\n",
    "                epochs=70,\n",
    "                batch_size=128,\n",
    "                shuffle=True,\n",
    "                validation_data=(x_test, x_test),\n",
    "                callbacks=[checkpoint, early_stop, tensorboad_results, reduce_lr])"
   ]
  },
  {
   "cell_type": "code",
   "execution_count": 11,
   "id": "86e73d6e",
   "metadata": {},
   "outputs": [
    {
     "name": "stdout",
     "output_type": "stream",
     "text": [
      "313/313 [==============================] - 4s 11ms/step\n"
     ]
    },
    {
     "data": {
      "image/png": "[encoded data removed]",
      "text/plain": [
       "<Figure size 2000x400 with 20 Axes>"
      ]
     },
     "metadata": {},
     "output_type": "display_data"
    }
   ],
   "source": [
    "decoded_imgs = autoencoder.predict(x_test)\n",
    "\n",
    "n = 10\n",
    "plt.figure(figsize=(20, 4))\n",
    "for i in range(1, n + 1):\n",
    "    ax = plt.subplot(2, n, i)\n",
    "    plt.imshow(x_test[i].reshape(28, 28))\n",
    "    plt.gray()\n",
    "    ax.get_xaxis().set_visible(False)\n",
    "    ax.get_yaxis().set_visible(False)\n",
    "\n",
    "    ax = plt.subplot(2, n, i + n)\n",
    "    plt.imshow(decoded_imgs[i].reshape(28, 28))\n",
    "    plt.gray()\n",
    "    ax.get_xaxis().set_visible(False)\n",
    "    ax.get_yaxis().set_visible(False)\n",
    "plt.show()"
   ]
  },
  {
   "cell_type": "code",
   "execution_count": 12,
   "id": "6c633587",
   "metadata": {},
   "outputs": [
    {
     "name": "stdout",
     "output_type": "stream",
     "text": [
      "313/313 [==============================] - 3s 10ms/step\n"
     ]
    },
    {
     "data": {
      "image/png": "[encoded data removed]",
      "text/plain": [
       "<Figure size 2000x400 with 20 Axes>"
      ]
     },
     "metadata": {},
     "output_type": "display_data"
    }
   ],
   "source": [
    "decoded_imgs = autoencoder.predict(x_test)\n",
    "\n",
    "n = 10\n",
    "plt.figure(figsize=(20, 4))\n",
    "for i in range(1, n + 1):\n",
    "    ax = plt.subplot(2, n, i)\n",
    "    plt.imshow(x_test[i].reshape(28, 28))\n",
    "    plt.gray()\n",
    "    ax.get_xaxis().set_visible(False)\n",
    "    ax.get_yaxis().set_visible(False)\n",
    "\n",
    "    ax = plt.subplot(2, n, i + n)\n",
    "    plt.imshow(decoded_imgs[i].reshape(28, 28))\n",
    "    plt.gray()\n",
    "    ax.get_xaxis().set_visible(False)\n",
    "    ax.get_yaxis().set_visible(False)\n",
    "plt.show()"
   ]
  },
  {
   "cell_type": "code",
   "execution_count": null,
   "id": "c7c3c070",
   "metadata": {},
   "outputs": [],
   "source": []
  },
  {
   "cell_type": "code",
   "execution_count": null,
   "id": "50594710",
   "metadata": {},
   "outputs": [],
   "source": []
  }
 ],
 "metadata": {
  "kernelspec": {
   "display_name": "Python 3 (ipykernel)",
   "language": "python",
   "name": "python3"
  },
  "language_info": {
   "codemirror_mode": {
    "name": "ipython",
    "version": 3
   },
   "file_extension": ".py",
   "mimetype": "text/x-python",
   "name": "python",
   "nbconvert_exporter": "python",
   "pygments_lexer": "ipython3",
   "version": "3.9.13"
  },
  "metadata": {
   "interpreter": {
    "hash": "a8e9b7295e4e4ab05de26eeadccbdf6c1addd4a021a23f11cfe4f1b7e707faf3"
   }
  }
 },
 "nbformat": 4,
 "nbformat_minor": 5
}
